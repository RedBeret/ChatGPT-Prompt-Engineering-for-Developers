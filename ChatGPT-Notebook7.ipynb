{
  "metadata": {
    "language_info": {
      "codemirror_mode": {
        "name": "python",
        "version": 3
      },
      "file_extension": ".py",
      "mimetype": "text/x-python",
      "name": "python",
      "nbconvert_exporter": "python",
      "pygments_lexer": "ipython3",
      "version": "3.8"
    },
    "kernelspec": {
      "name": "python",
      "display_name": "Python (Pyodide)",
      "language": "python"
    }
  },
  "nbformat_minor": 4,
  "nbformat": 4,
  "cells": [
    {
      "cell_type": "markdown",
      "source": "# The Chat Format\n\nIn this notebook, you will explore how you can utilize the chat format to have extended conversations with chatbots personalized or specialized for specific tasks or behaviors.\n\n## Setup",
      "metadata": {}
    },
    {
      "cell_type": "code",
      "source": "import os\nimport openai\nfrom dotenv import load_dotenv, find_dotenv\n_ = load_dotenv(find_dotenv()) # read local .env file\n\nopenai.api_key  = os.getenv('OPENAI_API_KEY')",
      "metadata": {},
      "execution_count": null,
      "outputs": []
    },
    {
      "cell_type": "code",
      "source": "def get_completion(prompt, model=\"gpt-3.5-turbo\"):\n    messages = [{\"role\": \"user\", \"content\": prompt}]\n    response = openai.ChatCompletion.create(\n        model=model,\n        messages=messages,\n        temperature=0, # this is the degree of randomness of the model's output\n    )\n    return response.choices[0].message[\"content\"]\n\ndef get_completion_from_messages(messages, model=\"gpt-3.5-turbo\", temperature=0):\n    response = openai.ChatCompletion.create(\n        model=model,\n        messages=messages,\n        temperature=temperature, # this is the degree of randomness of the model's output\n    )\n#     print(str(response.choices[0].message))\n    return response.choices[0].message[\"content\"]",
      "metadata": {},
      "execution_count": null,
      "outputs": []
    },
    {
      "cell_type": "code",
      "source": "messages =  [  \n{'role':'system', 'content':'You are an assistant that speaks like Shakespeare.'},    \n{'role':'user', 'content':'tell me a joke'},   \n{'role':'assistant', 'content':'Why did the chicken cross the road'},   \n{'role':'user', 'content':'I don\\'t know'}  ]",
      "metadata": {},
      "execution_count": null,
      "outputs": []
    },
    {
      "cell_type": "code",
      "source": "response = get_completion_from_messages(messages, temperature=1)\nprint(response)",
      "metadata": {},
      "execution_count": null,
      "outputs": []
    },
    {
      "cell_type": "code",
      "source": "messages =  [  \n{'role':'system', 'content':'You are friendly chatbot.'},    \n{'role':'user', 'content':'Hi, my name is Isa'}  ]\nresponse = get_completion_from_messages(messages, temperature=1)\nprint(response)",
      "metadata": {},
      "execution_count": null,
      "outputs": []
    },
    {
      "cell_type": "code",
      "source": "messages =  [  \n{'role':'system', 'content':'You are friendly chatbot.'},    \n{'role':'user', 'content':'Yes,  can you remind me, What is my name?'}  ]\nresponse = get_completion_from_messages(messages, temperature=1)\nprint(response)",
      "metadata": {},
      "execution_count": null,
      "outputs": []
    },
    {
      "cell_type": "code",
      "source": "messages =  [  \n{'role':'system', 'content':'You are friendly chatbot.'},\n{'role':'user', 'content':'Hi, my name is Isa'},\n{'role':'assistant', 'content': \"Hi Isa! It's nice to meet you. \\\nIs there anything I can help you with today?\"},\n{'role':'user', 'content':'Yes, you can remind me, What is my name?'}  ]\nresponse = get_completion_from_messages(messages, temperature=1)\nprint(response)",
      "metadata": {},
      "execution_count": null,
      "outputs": []
    },
    {
      "cell_type": "markdown",
      "source": "# OrderBot\nWe can automate the collection of user prompts and assistant responses to build a  OrderBot. The OrderBot will take orders at a pizza restaurant. ",
      "metadata": {}
    },
    {
      "cell_type": "code",
      "source": "def collect_messages(_):\n    prompt = inp.value_input\n    inp.value = ''\n    context.append({'role':'user', 'content':f\"{prompt}\"})\n    response = get_completion_from_messages(context) \n    context.append({'role':'assistant', 'content':f\"{response}\"})\n    panels.append(\n        pn.Row('User:', pn.pane.Markdown(prompt, width=600)))\n    panels.append(\n        pn.Row('Assistant:', pn.pane.Markdown(response, width=600, style={'background-color': '#F6F6F6'})))\n \n    return pn.Column(*panels)\n",
      "metadata": {},
      "execution_count": null,
      "outputs": []
    },
    {
      "cell_type": "code",
      "source": "import panel as pn  # GUI\npn.extension()\n\npanels = [] # collect display \n\ncontext = [ {'role':'system', 'content':\"\"\"\nYou are OrderBot, an automated service to collect orders for a pizza restaurant. \\\nYou first greet the customer, then collects the order, \\\nand then asks if it's a pickup or delivery. \\\nYou wait to collect the entire order, then summarize it and check for a final \\\ntime if the customer wants to add anything else. \\\nIf it's a delivery, you ask for an address. \\\nFinally you collect the payment.\\\nMake sure to clarify all options, extras and sizes to uniquely \\\nidentify the item from the menu.\\\nYou respond in a short, very conversational friendly style. \\\nThe menu includes \\\npepperoni pizza  12.95, 10.00, 7.00 \\\ncheese pizza   10.95, 9.25, 6.50 \\\neggplant pizza   11.95, 9.75, 6.75 \\\nfries 4.50, 3.50 \\\ngreek salad 7.25 \\\nToppings: \\\nextra cheese 2.00, \\\nmushrooms 1.50 \\\nsausage 3.00 \\\ncanadian bacon 3.50 \\\nAI sauce 1.50 \\\npeppers 1.00 \\\nDrinks: \\\ncoke 3.00, 2.00, 1.00 \\\nsprite 3.00, 2.00, 1.00 \\\nbottled water 5.00 \\\n\"\"\"} ]  # accumulate messages\n\n\ninp = pn.widgets.TextInput(value=\"Hi\", placeholder='Enter text here…')\nbutton_conversation = pn.widgets.Button(name=\"Chat!\")\n\ninteractive_conversation = pn.bind(collect_messages, button_conversation)\n\ndashboard = pn.Column(\n    inp,\n    pn.Row(button_conversation),\n    pn.panel(interactive_conversation, loading_indicator=True, height=300),\n)\n\ndashboard",
      "metadata": {},
      "execution_count": null,
      "outputs": []
    },
    {
      "cell_type": "code",
      "source": "messages =  context.copy()\nmessages.append(\n{'role':'system', 'content':'create a json summary of the previous food order. Itemize the price for each item\\\n The fields should be 1) pizza, include size 2) list of toppings 3) list of drinks, include size   4) list of sides include size  5)total price '},    \n)\n #The fields should be 1) pizza, price 2) list of toppings 3) list of drinks, include size include price  4) list of sides include size include price, 5)total price '},    \n\nresponse = get_completion_from_messages(messages, temperature=0)\nprint(response)",
      "metadata": {},
      "execution_count": null,
      "outputs": []
    },
    {
      "cell_type": "markdown",
      "source": "## Try experimenting on your own!\n\nYou can modify the menu or instructions to create your own orderbot!",
      "metadata": {}
    },
    {
      "cell_type": "code",
      "source": "",
      "metadata": {},
      "execution_count": null,
      "outputs": []
    }
  ]
}