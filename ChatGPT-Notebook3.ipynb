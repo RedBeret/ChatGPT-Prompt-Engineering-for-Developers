{
  "metadata": {
    "language_info": {
      "codemirror_mode": {
        "name": "python",
        "version": 3
      },
      "file_extension": ".py",
      "mimetype": "text/x-python",
      "name": "python",
      "nbconvert_exporter": "python",
      "pygments_lexer": "ipython3",
      "version": "3.8"
    },
    "kernelspec": {
      "name": "python",
      "display_name": "Python (Pyodide)",
      "language": "python"
    }
  },
  "nbformat_minor": 4,
  "nbformat": 4,
  "cells": [
    {
      "cell_type": "markdown",
      "source": "# Summarizing\nIn this lesson, you will summarize text with a focus on specific topics.\n\n## Setup",
      "metadata": {}
    },
    {
      "cell_type": "code",
      "source": "import openai\nimport os\n\nfrom dotenv import load_dotenv, find_dotenv\n_ = load_dotenv(find_dotenv()) # read local .env file\n\nopenai.api_key  = os.getenv('OPENAI_API_KEY')",
      "metadata": {},
      "execution_count": null,
      "outputs": []
    },
    {
      "cell_type": "code",
      "source": "def get_completion(prompt, model=\"gpt-3.5-turbo\"): # Andrew mentioned that the prompt/ completion paradigm is preferable for this class\n    messages = [{\"role\": \"user\", \"content\": prompt}]\n    response = openai.ChatCompletion.create(\n        model=model,\n        messages=messages,\n        temperature=0, # this is the degree of randomness of the model's output\n    )\n    return response.choices[0].message[\"content\"]\n",
      "metadata": {},
      "execution_count": null,
      "outputs": []
    },
    {
      "cell_type": "markdown",
      "source": "## Text to summarize",
      "metadata": {}
    },
    {
      "cell_type": "code",
      "source": "prod_review = \"\"\"\nGot this panda plush toy for my daughter's birthday, \\\nwho loves it and takes it everywhere. It's soft and \\ \nsuper cute, and its face has a friendly look. It's \\ \na bit small for what I paid though. I think there \\ \nmight be other options that are bigger for the \\ \nsame price. It arrived a day earlier than expected, \\ \nso I got to play with it myself before I gave it \\ \nto her.\n\"\"\"",
      "metadata": {},
      "execution_count": null,
      "outputs": []
    },
    {
      "cell_type": "markdown",
      "source": "## Summarize with a word/sentence/character limit",
      "metadata": {}
    },
    {
      "cell_type": "code",
      "source": "prompt = f\"\"\"\nYour task is to generate a short summary of a product \\\nreview from an ecommerce site. \n\nSummarize the review below, delimited by triple \nbackticks, in at most 30 words. \n\nReview: ```{prod_review}```\n\"\"\"\n\nresponse = get_completion(prompt)\nprint(response)\n",
      "metadata": {},
      "execution_count": null,
      "outputs": []
    },
    {
      "cell_type": "markdown",
      "source": "## Summarize with a focus on shipping and delivery",
      "metadata": {}
    },
    {
      "cell_type": "code",
      "source": "prompt = f\"\"\"\nYour task is to generate a short summary of a product \\\nreview from an ecommerce site to give feedback to the \\\nShipping deparmtment. \n\nSummarize the review below, delimited by triple \nbackticks, in at most 30 words, and focusing on any aspects \\\nthat mention shipping and delivery of the product. \n\nReview: ```{prod_review}```\n\"\"\"\n\nresponse = get_completion(prompt)\nprint(response)\n",
      "metadata": {},
      "execution_count": null,
      "outputs": []
    },
    {
      "cell_type": "markdown",
      "source": "## Summarize with a focus on price and value",
      "metadata": {}
    },
    {
      "cell_type": "code",
      "source": "prompt = f\"\"\"\nYour task is to generate a short summary of a product \\\nreview from an ecommerce site to give feedback to the \\\npricing deparmtment, responsible for determining the \\\nprice of the product.  \n\nSummarize the review below, delimited by triple \nbackticks, in at most 30 words, and focusing on any aspects \\\nthat are relevant to the price and perceived value. \n\nReview: ```{prod_review}```\n\"\"\"\n\nresponse = get_completion(prompt)\nprint(response)\n",
      "metadata": {},
      "execution_count": null,
      "outputs": []
    },
    {
      "cell_type": "markdown",
      "source": "#### Comment\n- Summaries include topics that are not related to the topic of focus.",
      "metadata": {}
    },
    {
      "cell_type": "markdown",
      "source": "## Try \"extract\" instead of \"summarize\"",
      "metadata": {}
    },
    {
      "cell_type": "code",
      "source": "prompt = f\"\"\"\nYour task is to extract relevant information from \\ \na product review from an ecommerce site to give \\\nfeedback to the Shipping department. \n\nFrom the review below, delimited by triple quotes \\\nextract the information relevant to shipping and \\ \ndelivery. Limit to 30 words. \n\nReview: ```{prod_review}```\n\"\"\"\n\nresponse = get_completion(prompt)\nprint(response)",
      "metadata": {},
      "execution_count": null,
      "outputs": []
    },
    {
      "cell_type": "markdown",
      "source": "## Summarize multiple product reviews",
      "metadata": {}
    },
    {
      "cell_type": "code",
      "source": "\nreview_1 = prod_review \n\n# review for a standing lamp\nreview_2 = \"\"\"\nNeeded a nice lamp for my bedroom, and this one \\\nhad additional storage and not too high of a price \\\npoint. Got it fast - arrived in 2 days. The string \\\nto the lamp broke during the transit and the company \\\nhappily sent over a new one. Came within a few days \\\nas well. It was easy to put together. Then I had a \\\nmissing part, so I contacted their support and they \\\nvery quickly got me the missing piece! Seems to me \\\nto be a great company that cares about their customers \\\nand products. \n\"\"\"\n\n# review for an electric toothbrush\nreview_3 = \"\"\"\nMy dental hygienist recommended an electric toothbrush, \\\nwhich is why I got this. The battery life seems to be \\\npretty impressive so far. After initial charging and \\\nleaving the charger plugged in for the first week to \\\ncondition the battery, I've unplugged the charger and \\\nbeen using it for twice daily brushing for the last \\\n3 weeks all on the same charge. But the toothbrush head \\\nis too small. I’ve seen baby toothbrushes bigger than \\\nthis one. I wish the head was bigger with different \\\nlength bristles to get between teeth better because \\\nthis one doesn’t.  Overall if you can get this one \\\naround the $50 mark, it's a good deal. The manufactuer's \\\nreplacements heads are pretty expensive, but you can \\\nget generic ones that're more reasonably priced. This \\\ntoothbrush makes me feel like I've been to the dentist \\\nevery day. My teeth feel sparkly clean! \n\"\"\"\n\n# review for a blender\nreview_4 = \"\"\"\nSo, they still had the 17 piece system on seasonal \\\nsale for around $49 in the month of November, about \\\nhalf off, but for some reason (call it price gouging) \\\naround the second week of December the prices all went \\\nup to about anywhere from between $70-$89 for the same \\\nsystem. And the 11 piece system went up around $10 or \\\nso in price also from the earlier sale price of $29. \\\nSo it looks okay, but if you look at the base, the part \\\nwhere the blade locks into place doesn’t look as good \\\nas in previous editions from a few years ago, but I \\\nplan to be very gentle with it (example, I crush \\\nvery hard items like beans, ice, rice, etc. in the \\ \nblender first then pulverize them in the serving size \\\nI want in the blender then switch to the whipping \\\nblade for a finer flour, and use the cross cutting blade \\\nfirst when making smoothies, then use the flat blade \\\nif I need them finer/less pulpy). Special tip when making \\\nsmoothies, finely cut and freeze the fruits and \\\nvegetables (if using spinach-lightly stew soften the \\ \nspinach then freeze until ready for use-and if making \\\nsorbet, use a small to medium sized food processor) \\ \nthat you plan to use that way you can avoid adding so \\\nmuch ice if at all-when making your smoothie. \\\nAfter about a year, the motor was making a funny noise. \\\nI called customer service but the warranty expired \\\nalready, so I had to buy another one. FYI: The overall \\\nquality has gone done in these types of products, so \\\nthey are kind of counting on brand recognition and \\\nconsumer loyalty to maintain sales. Got it in about \\\ntwo days.\n\"\"\"\n\nreviews = [review_1, review_2, review_3, review_4]\n\n",
      "metadata": {},
      "execution_count": null,
      "outputs": []
    },
    {
      "cell_type": "code",
      "source": "for i in range(len(reviews)):\n    prompt = f\"\"\"\n    Your task is to generate a short summary of a product \\ \n    review from an ecommerce site. \n\n    Summarize the review below, delimited by triple \\\n    backticks in at most 20 words. \n\n    Review: ```{reviews[i]}```\n    \"\"\"\n\n    response = get_completion(prompt)\n    print(i, response, \"\\n\")\n",
      "metadata": {},
      "execution_count": null,
      "outputs": []
    },
    {
      "cell_type": "markdown",
      "source": "## Try experimenting on your own!",
      "metadata": {}
    },
    {
      "cell_type": "code",
      "source": "",
      "metadata": {},
      "execution_count": null,
      "outputs": []
    }
  ]
}