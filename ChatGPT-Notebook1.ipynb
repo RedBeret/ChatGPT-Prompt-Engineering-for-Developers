{
  "metadata": {
    "language_info": {
      "codemirror_mode": {
        "name": "python",
        "version": 3
      },
      "file_extension": ".py",
      "mimetype": "text/x-python",
      "name": "python",
      "nbconvert_exporter": "python",
      "pygments_lexer": "ipython3",
      "version": "3.8"
    },
    "kernelspec": {
      "name": "python",
      "display_name": "Python (Pyodide)",
      "language": "python"
    }
  },
  "nbformat_minor": 4,
  "nbformat": 4,
  "cells": [
    {
      "cell_type": "markdown",
      "source": "# Guidelines for Prompting\nIn this lesson, you'll practice two prompting principles and their related tactics in order to write effective prompts for large language models.\n\n## Setup\n#### Load the API key and relevant Python libaries.",
      "metadata": {}
    },
    {
      "cell_type": "markdown",
      "source": "In this course, we've provided some code that loads the OpenAI API key for you.",
      "metadata": {}
    },
    {
      "cell_type": "code",
      "source": "import openai\nimport os\n\nfrom dotenv import load_dotenv, find_dotenv\n_ = load_dotenv(find_dotenv())\n\nopenai.api_key  = os.getenv('OPENAI_API_KEY')",
      "metadata": {},
      "execution_count": null,
      "outputs": []
    },
    {
      "cell_type": "markdown",
      "source": "#### helper function\nThroughout this course, we will use OpenAI's `gpt-3.5-turbo` model and the [chat completions endpoint](https://platform.openai.com/docs/guides/chat). \n\nThis helper function will make it easier to use prompts and look at the generated outputs:",
      "metadata": {}
    },
    {
      "cell_type": "code",
      "source": "def get_completion(prompt, model=\"gpt-3.5-turbo\"):\n    messages = [{\"role\": \"user\", \"content\": prompt}]\n    response = openai.ChatCompletion.create(\n        model=model,\n        messages=messages,\n        temperature=0, # this is the degree of randomness of the model's output\n    )\n    return response.choices[0].message[\"content\"]",
      "metadata": {},
      "execution_count": null,
      "outputs": []
    },
    {
      "cell_type": "markdown",
      "source": "## Prompting Principles\n- **Principle 1: Write clear and specific instructions**\n- **Principle 2: Give the model time to “think”**\n\n### Principle 1: Write clear and specific instructions\n\n#### Tactic 1: Use delimiters to clearly indicate distinct parts of the input\n- Delimiters can be anything like: ```, \"\"\", < >, `<tag> </tag>`, `:`",
      "metadata": {}
    },
    {
      "cell_type": "code",
      "source": "text = f\"\"\"\nYou should express what you want a model to do by \\ \nproviding instructions that are as clear and \\ \nspecific as you can possibly make them. \\ \nThis will guide the model towards the desired output, \\ \nand reduce the chances of receiving irrelevant \\ \nor incorrect responses. Don't confuse writing a \\ \nclear prompt with writing a short prompt. \\ \nIn many cases, longer prompts provide more clarity \\ \nand context for the model, which can lead to \\ \nmore detailed and relevant outputs.\n\"\"\"\nprompt = f\"\"\"\nSummarize the text delimited by triple backticks \\ \ninto a single sentence.\n```{text}```\n\"\"\"\nresponse = get_completion(prompt)\nprint(response)",
      "metadata": {},
      "execution_count": null,
      "outputs": []
    },
    {
      "cell_type": "markdown",
      "source": "#### Tactic 2: Ask for a structured output\n- JSON, HTML",
      "metadata": {}
    },
    {
      "cell_type": "code",
      "source": "prompt = f\"\"\"\nGenerate a list of three made-up book titles along \\ \nwith their authors and genres. \nProvide them in JSON format with the following keys: \nbook_id, title, author, genre.\n\"\"\"\nresponse = get_completion(prompt)\nprint(response)",
      "metadata": {},
      "execution_count": null,
      "outputs": []
    },
    {
      "cell_type": "markdown",
      "source": "#### Tactic 3: Ask the model to check whether conditions are satisfied",
      "metadata": {}
    },
    {
      "cell_type": "code",
      "source": "text_1 = f\"\"\"\nMaking a cup of tea is easy! First, you need to get some \\ \nwater boiling. While that's happening, \\ \ngrab a cup and put a tea bag in it. Once the water is \\ \nhot enough, just pour it over the tea bag. \\ \nLet it sit for a bit so the tea can steep. After a \\ \nfew minutes, take out the tea bag. If you \\ \nlike, you can add some sugar or milk to taste. \\ \nAnd that's it! You've got yourself a delicious \\ \ncup of tea to enjoy.\n\"\"\"\nprompt = f\"\"\"\nYou will be provided with text delimited by triple quotes. \nIf it contains a sequence of instructions, \\ \nre-write those instructions in the following format:\n\nStep 1 - ...\nStep 2 - …\n…\nStep N - …\n\nIf the text does not contain a sequence of instructions, \\ \nthen simply write \\\"No steps provided.\\\"\n\n\\\"\\\"\\\"{text_1}\\\"\\\"\\\"\n\"\"\"\nresponse = get_completion(prompt)\nprint(\"Completion for Text 1:\")\nprint(response)",
      "metadata": {},
      "execution_count": null,
      "outputs": []
    },
    {
      "cell_type": "code",
      "source": "text_2 = f\"\"\"\nThe sun is shining brightly today, and the birds are \\\nsinging. It's a beautiful day to go for a \\ \nwalk in the park. The flowers are blooming, and the \\ \ntrees are swaying gently in the breeze. People \\ \nare out and about, enjoying the lovely weather. \\ \nSome are having picnics, while others are playing \\ \ngames or simply relaxing on the grass. It's a \\ \nperfect day to spend time outdoors and appreciate the \\ \nbeauty of nature.\n\"\"\"\nprompt = f\"\"\"\nYou will be provided with text delimited by triple quotes. \nIf it contains a sequence of instructions, \\ \nre-write those instructions in the following format:\n\nStep 1 - ...\nStep 2 - …\n…\nStep N - …\n\nIf the text does not contain a sequence of instructions, \\ \nthen simply write \\\"No steps provided.\\\"\n\n\\\"\\\"\\\"{text_2}\\\"\\\"\\\"\n\"\"\"\nresponse = get_completion(prompt)\nprint(\"Completion for Text 2:\")\nprint(response)",
      "metadata": {},
      "execution_count": null,
      "outputs": []
    },
    {
      "cell_type": "markdown",
      "source": "#### Tactic 4: \"Few-shot\" prompting",
      "metadata": {}
    },
    {
      "cell_type": "code",
      "source": "prompt = f\"\"\"\nYour task is to answer in a consistent style.\n\n<child>: Teach me about patience.\n\n<grandparent>: The river that carves the deepest \\ \nvalley flows from a modest spring; the \\ \ngrandest symphony originates from a single note; \\ \nthe most intricate tapestry begins with a solitary thread.\n\n<child>: Teach me about resilience.\n\"\"\"\nresponse = get_completion(prompt)\nprint(response)",
      "metadata": {},
      "execution_count": null,
      "outputs": []
    },
    {
      "cell_type": "markdown",
      "source": "### Principle 2: Give the model time to “think” \n\n#### Tactic 1: Specify the steps required to complete a task",
      "metadata": {}
    },
    {
      "cell_type": "code",
      "source": "text = f\"\"\"\nIn a charming village, siblings Jack and Jill set out on \\ \na quest to fetch water from a hilltop \\ \nwell. As they climbed, singing joyfully, misfortune \\ \nstruck—Jack tripped on a stone and tumbled \\ \ndown the hill, with Jill following suit. \\ \nThough slightly battered, the pair returned home to \\ \ncomforting embraces. Despite the mishap, \\ \ntheir adventurous spirits remained undimmed, and they \\ \ncontinued exploring with delight.\n\"\"\"\n# example 1\nprompt_1 = f\"\"\"\nPerform the following actions: \n1 - Summarize the following text delimited by triple \\\nbackticks with 1 sentence.\n2 - Translate the summary into French.\n3 - List each name in the French summary.\n4 - Output a json object that contains the following \\\nkeys: french_summary, num_names.\n\nSeparate your answers with line breaks.\n\nText:\n```{text}```\n\"\"\"\nresponse = get_completion(prompt_1)\nprint(\"Completion for prompt 1:\")\nprint(response)",
      "metadata": {},
      "execution_count": null,
      "outputs": []
    },
    {
      "cell_type": "markdown",
      "source": "#### Ask for output in a specified format",
      "metadata": {}
    },
    {
      "cell_type": "code",
      "source": "prompt_2 = f\"\"\"\nYour task is to perform the following actions: \n1 - Summarize the following text delimited by \n  <> with 1 sentence.\n2 - Translate the summary into French.\n3 - List each name in the French summary.\n4 - Output a json object that contains the \n  following keys: french_summary, num_names.\n\nUse the following format:\nText: <text to summarize>\nSummary: <summary>\nTranslation: <summary translation>\nNames: <list of names in Italian summary>\nOutput JSON: <json with summary and num_names>\n\nText: <{text}>\n\"\"\"\nresponse = get_completion(prompt_2)\nprint(\"\\nCompletion for prompt 2:\")\nprint(response)",
      "metadata": {},
      "execution_count": null,
      "outputs": []
    },
    {
      "cell_type": "markdown",
      "source": "#### Tactic 2: Instruct the model to work out its own solution before rushing to a conclusion",
      "metadata": {}
    },
    {
      "cell_type": "code",
      "source": "prompt = f\"\"\"\nDetermine if the student's solution is correct or not.\n\nQuestion:\nI'm building a solar power installation and I need \\\n help working out the financials. \n- Land costs $100 / square foot\n- I can buy solar panels for $250 / square foot\n- I negotiated a contract for maintenance that will cost \\ \nme a flat $100k per year, and an additional $10 / square \\\nfoot\nWhat is the total cost for the first year of operations \nas a function of the number of square feet.\n\nStudent's Solution:\nLet x be the size of the installation in square feet.\nCosts:\n1. Land cost: 100x\n2. Solar panel cost: 250x\n3. Maintenance cost: 100,000 + 100x\nTotal cost: 100x + 250x + 100,000 + 100x = 450x + 100,000\n\"\"\"\nresponse = get_completion(prompt)\nprint(response)",
      "metadata": {},
      "execution_count": null,
      "outputs": []
    },
    {
      "cell_type": "markdown",
      "source": "#### Note that the student's solution is actually not correct.\n#### We can fix this by instructing the model to work out its own solution first.",
      "metadata": {}
    },
    {
      "cell_type": "code",
      "source": "prompt = f\"\"\"\nYour task is to determine if the student's solution \\\nis correct or not.\nTo solve the problem do the following:\n- First, work out your own solution to the problem. \n- Then compare your solution to the student's solution \\ \nand evaluate if the student's solution is correct or not. \nDon't decide if the student's solution is correct until \nyou have done the problem yourself.\n\nUse the following format:\nQuestion:\n```\nquestion here\n```\nStudent's solution:\n```\nstudent's solution here\n```\nActual solution:\n```\nsteps to work out the solution and your solution here\n```\nIs the student's solution the same as actual solution \\\njust calculated:\n```\nyes or no\n```\nStudent grade:\n```\ncorrect or incorrect\n```\n\nQuestion:\n```\nI'm building a solar power installation and I need help \\\nworking out the financials. \n- Land costs $100 / square foot\n- I can buy solar panels for $250 / square foot\n- I negotiated a contract for maintenance that will cost \\\nme a flat $100k per year, and an additional $10 / square \\\nfoot\nWhat is the total cost for the first year of operations \\\nas a function of the number of square feet.\n``` \nStudent's solution:\n```\nLet x be the size of the installation in square feet.\nCosts:\n1. Land cost: 100x\n2. Solar panel cost: 250x\n3. Maintenance cost: 100,000 + 100x\nTotal cost: 100x + 250x + 100,000 + 100x = 450x + 100,000\n```\nActual solution:\n\"\"\"\nresponse = get_completion(prompt)\nprint(response)",
      "metadata": {},
      "execution_count": null,
      "outputs": []
    },
    {
      "cell_type": "markdown",
      "source": "## Model Limitations: Hallucinations\n- Boie is a real company, the product name is not real.",
      "metadata": {}
    },
    {
      "cell_type": "code",
      "source": "prompt = f\"\"\"\nTell me about AeroGlide UltraSlim Smart Toothbrush by Boie\n\"\"\"\nresponse = get_completion(prompt)\nprint(response)",
      "metadata": {},
      "execution_count": null,
      "outputs": []
    },
    {
      "cell_type": "markdown",
      "source": "## Try experimenting on your own!",
      "metadata": {}
    },
    {
      "cell_type": "code",
      "source": "",
      "metadata": {},
      "execution_count": null,
      "outputs": []
    },
    {
      "cell_type": "markdown",
      "source": "#### Notes on using the OpenAI API outside of this classroom\n\nTo install the OpenAI Python library:\n```\n!pip install openai\n```\n\nThe library needs to be configured with your account's secret key, which is available on the [website](https://platform.openai.com/account/api-keys). \n\nYou can either set it as the `OPENAI_API_KEY` environment variable before using the library:\n ```\n !export OPENAI_API_KEY='sk-...'\n ```\n\nOr, set `openai.api_key` to its value:\n\n```\nimport openai\nopenai.api_key = \"sk-...\"\n```",
      "metadata": {}
    },
    {
      "cell_type": "markdown",
      "source": "#### A note about the backslash\n- In the course, we are using a backslash `\\` to make the text fit on the screen without inserting newline '\\n' characters.\n- GPT-3 isn't really affected whether you insert newline characters or not.  But when working with LLMs in general, you may consider whether newline characters in your prompt may affect the model's performance.",
      "metadata": {}
    },
    {
      "cell_type": "code",
      "source": "",
      "metadata": {},
      "execution_count": null,
      "outputs": []
    }
  ]
}